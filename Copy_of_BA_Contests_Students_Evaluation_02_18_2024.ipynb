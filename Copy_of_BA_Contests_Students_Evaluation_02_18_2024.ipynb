{
  "nbformat": 4,
  "nbformat_minor": 0,
  "metadata": {
    "colab": {
      "provenance": [],
      "collapsed_sections": [
        "tbslwhH2RxY-"
      ],
      "include_colab_link": true
    },
    "kernelspec": {
      "name": "python3",
      "display_name": "Python 3"
    },
    "language_info": {
      "name": "python"
    }
  },
  "cells": [
    {
      "cell_type": "markdown",
      "metadata": {
        "id": "view-in-github",
        "colab_type": "text"
      },
      "source": [
        "<a href=\"https://colab.research.google.com/github/st43r/Colab/blob/main/Copy_of_BA_Contests_Students_Evaluation_02_18_2024.ipynb\" target=\"_parent\"><img src=\"https://colab.research.google.com/assets/colab-badge.svg\" alt=\"Open In Colab\"/></a>"
      ]
    },
    {
      "cell_type": "markdown",
      "source": [
        "**Instructions:**\n",
        "\n",
        "* Doesn't matter in which order you solve;\n",
        "* Please complete the code sections below and share with @san9_zubr\n",
        "  * e.g., by uploading to github or by sharing the colab (please grant a **commenter** access);\n",
        "* Please test your code.\n",
        "\n",
        "Most of the problems were written by ChatGPT, I hope there are not much mistakes. Lets discuss in chat if something is wrong.\n",
        "\n",
        "Enjoy!"
      ],
      "metadata": {
        "id": "r1BfthPkhVAs"
      }
    },
    {
      "cell_type": "markdown",
      "source": [
        "## Problem 1: Analyzing Time Complexity"
      ],
      "metadata": {
        "id": "HEYOkK20RgAj"
      }
    },
    {
      "cell_type": "markdown",
      "source": [
        "### Optional introduction"
      ],
      "metadata": {
        "id": "tbslwhH2RxY-"
      }
    },
    {
      "cell_type": "markdown",
      "source": [
        "Lets define $O(1)$ as a bounded function (when $x → +∞$).\n",
        "\n",
        "I.e., $f(x) = O(1)$ if exists such constant $M$ that $\\|f(x)\\| \\le M$ for any $x$.\n",
        "\n",
        "Then, $f(x) = O(g(x))$ if $f(x) = g(x) * O(1)$ (or, roughly speeking, $\\frac{f(x)}{g(x)} = O(1)$).\n",
        "\n",
        "*Example 1:* $sin(x) = O(1)$ because $|sin(x)| \\le 1$.\n",
        "\n",
        "*Example 2:* $50 x^2 = O(x^2)$ because $\\frac{50x^2}{x^2} \\le 50$ (when $x → +∞$)."
      ],
      "metadata": {
        "id": "ew7S3Ep1R_f-"
      }
    },
    {
      "cell_type": "markdown",
      "source": [
        "### Problem statement"
      ],
      "metadata": {
        "id": "HjWOR-X7SCod"
      }
    },
    {
      "cell_type": "markdown",
      "source": [
        "Consider the following Python function:\n",
        "\n",
        "```python\n",
        "def example_function(arr):\n",
        "    n = len(arr)\n",
        "    total = 0\n",
        "\n",
        "    for i in range(n):\n",
        "        for j in range(i, n):\n",
        "            total += arr[i] * arr[j]\n",
        "\n",
        "    return total\n",
        "```\n",
        "\n",
        "**Question:**\n",
        "\n",
        "Analyse the time complexity of the `example_function` in terms of Big O notation. Explain your reasoning and provide the final time complexity."
      ],
      "metadata": {
        "id": "puWJgvg8MZwb"
      }
    },
    {
      "cell_type": "markdown",
      "source": [
        "**Write your answer here**\n",
        "\n",
        "![image.png](data:image/png;base64,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)"
      ],
      "metadata": {
        "id": "qGZ7p6lgRZKQ"
      }
    },
    {
      "cell_type": "markdown",
      "source": [
        "---"
      ],
      "metadata": {
        "id": "Z_IboiAGSKHg"
      }
    },
    {
      "cell_type": "markdown",
      "source": [
        "## Problem 2: Merge Two Sorted Linked Lists\n",
        "\n",
        "Consider the following definitions of a linked list node:\n",
        "\n",
        "```python\n",
        "class ListNode:\n",
        "    def __init__(self, value=0, next=None):\n",
        "        self.value = value\n",
        "        self.next = next\n",
        "```\n",
        "\n",
        "Write a function `merge_sorted_lists` that takes two sorted linked lists, `l1` and `l2`, as parameters and returns a new sorted linked list that contains all the elements of `l1` and `l2`.\n",
        "\n",
        "**NOTE:** Please also provide some tests to verify it works!\n",
        "\n",
        "**Constraints:**\n",
        "\n",
        "* The linked lists are sorted in non-decreasing order.\n",
        "* The values of the nodes are integers.\n",
        "\n",
        "**Note:**\n",
        "\n",
        "Your function should not modify the input linked lists. It should create a new linked list containing the merged elements in sorted order.\n"
      ],
      "metadata": {
        "id": "UifJQ3tFSM5F"
      }
    },
    {
      "cell_type": "code",
      "source": [
        "class ListNode:\n",
        "    def __init__(self, value=0, next=None):\n",
        "        self.value = value\n",
        "        self.next = next\n",
        "\n",
        "    def __str__(self):\n",
        "        return str(self.value)\n",
        "\n",
        "def merge_sorted_lists(l1: ListNode, l2: ListNode) -> ListNode:\n",
        "    \"\"\"\n",
        "    Merge two sorted linked lists into a new sorted linked list.\n",
        "\n",
        "    Parameters:\n",
        "    - l1 (ListNode): Head of the first sorted linked list.\n",
        "    - l2 (ListNode): Head of the second sorted linked list.\n",
        "\n",
        "    Returns:\n",
        "    - ListNode: Head of the merged sorted linked list.\n",
        "    \"\"\"\n",
        "    head = ListNode()\n",
        "    current = head\n",
        "\n",
        "    while l1 and l2:\n",
        "        if l1.value < l2.value:\n",
        "            current.next = l1\n",
        "            l1 = l1.next\n",
        "        else:\n",
        "            current.next = l2\n",
        "            l2 = l2.next\n",
        "\n",
        "        current = current.next\n",
        "\n",
        "    if l1:\n",
        "        current.next = l1\n",
        "    if l2:\n",
        "        current.next = l2\n",
        "\n",
        "    return head.next\n",
        "\n",
        "\n",
        "def test_merge_sorted_lists():\n",
        "    list1 = ListNode(1,ListNode(2,ListNode(7)))\n",
        "    list2 = ListNode(2,ListNode(3,ListNode(4, ListNode(11))))\n",
        "\n",
        "    result = merge_sorted_lists(list1, list2)\n",
        "\n",
        "    while result:\n",
        "        print(result)\n",
        "        result = result.next"
      ],
      "metadata": {
        "id": "D-wsJaDPS24G"
      },
      "execution_count": null,
      "outputs": []
    },
    {
      "cell_type": "code",
      "source": [
        "test_merge_sorted_lists()"
      ],
      "metadata": {
        "colab": {
          "base_uri": "https://localhost:8080/"
        },
        "id": "9U6GaKcHw8gt",
        "outputId": "6e5cc600-6592-4e56-cc4f-9c7355ef183f"
      },
      "execution_count": null,
      "outputs": [
        {
          "output_type": "stream",
          "name": "stdout",
          "text": [
            "1\n",
            "2\n",
            "2\n",
            "3\n",
            "4\n",
            "7\n",
            "11\n"
          ]
        }
      ]
    },
    {
      "cell_type": "markdown",
      "source": [
        "---"
      ],
      "metadata": {
        "id": "fUiaAQhZTybF"
      }
    },
    {
      "cell_type": "markdown",
      "source": [
        "## Problem 3: Maximum Depth of Binary Tree\n",
        "\n",
        "Consider the following definition of a binary tree node:\n",
        "\n",
        "```python\n",
        "class TreeNode:\n",
        "    def __init__(self, value=0, left=None, right=None):\n",
        "        self.value = value\n",
        "        self.left = left\n",
        "        self.right = right\n",
        "```\n",
        "\n",
        "Write a function `max_depth` that takes the root of a binary tree as a parameter and returns its maximum depth. The maximum depth is defined as the length of the longest path from the root node to any leaf node.\n",
        "\n",
        "**Constraints:**\n",
        "\n",
        "The values of the nodes are integers.\n",
        "\n",
        "**Note:**\n",
        "\n",
        "A binary tree's depth is the number of nodes along the longest path from the root node down to the farthest leaf node. A leaf is a node with no children."
      ],
      "metadata": {
        "id": "McPABPwLUDLa"
      }
    },
    {
      "cell_type": "code",
      "source": [
        "class TreeNode:\n",
        "    def __init__(self, value=0, left=None, right=None):\n",
        "        self.value = value\n",
        "        self.left = left\n",
        "        self.right = right\n",
        "\n",
        "\n",
        "def max_depth(root: TreeNode) -> int:\n",
        "    \"\"\"\n",
        "    Calculate the maximum depth of a binary tree.\n",
        "\n",
        "    Parameters:\n",
        "    - root (TreeNode): The root of the binary tree.\n",
        "\n",
        "    Returns:\n",
        "    - int: The maximum depth of the binary tree.\n",
        "    \"\"\"\n",
        "    # Your code here\n",
        "    pass\n",
        "\n",
        "\n",
        "def test_max_depth():\n",
        "    pass\n"
      ],
      "metadata": {
        "id": "Ld7D8QtdUVTM"
      },
      "execution_count": null,
      "outputs": []
    },
    {
      "cell_type": "markdown",
      "source": [
        "---"
      ],
      "metadata": {
        "id": "LfjWk86QUhoj"
      }
    },
    {
      "cell_type": "markdown",
      "source": [
        "## Problem 4: Find the First Bad Version\n",
        "\n",
        "You are a product manager and currently leading a team to develop a new product. Unfortunately, the latest version of your product is causing issues, and you have to find out the first bad version.\n",
        "\n",
        "The product versions are labeled from 1 to `n`, and you have a function `isBadVersion(version)` that returns whether a version is bad. Implement a function `first_bad_version` to find the first bad version. You should minimize the number of calls to the `isBadVersion` function.\n",
        "\n",
        "**Constraints:**\n",
        "\n",
        "* `1 <= n <= 2^31 - 1`\n",
        "\n",
        "**Note:**\n",
        "\n",
        "Your solution should have a time complexity of O(log N), where N is the number of versions."
      ],
      "metadata": {
        "id": "Q-mMKl4lUlh-"
      }
    },
    {
      "cell_type": "code",
      "source": [
        "def isBadVersion(version: int) -> bool:\n",
        "    \"\"\"\n",
        "    Example of the provided isBadVersion function.\n",
        "    \"\"\"\n",
        "    # Your code here\n",
        "\n",
        "\n",
        "def first_bad_version(n: int) -> int:\n",
        "    \"\"\"\n",
        "    Find the first bad version.\n",
        "\n",
        "    Parameters:\n",
        "    - n (int): The total number of versions.\n",
        "\n",
        "    Returns:\n",
        "    - int: The first bad version.\n",
        "    \"\"\"\n",
        "    # Your code here\n",
        "\n",
        "\n",
        "def test_first_bad_version():\n",
        "    # Your code here\n",
        "    ..."
      ],
      "metadata": {
        "id": "4j13Jke5VoP5"
      },
      "execution_count": null,
      "outputs": []
    },
    {
      "cell_type": "markdown",
      "source": [
        "---"
      ],
      "metadata": {
        "id": "7XxXkQ8RWWQJ"
      }
    },
    {
      "cell_type": "markdown",
      "source": [
        "## Problem 5: Graph Representation\n",
        "\n",
        "Consider the representation of a graph using an adjacency list. Write a Python class `Graph` that represents a directed graph. The class should have methods to add a vertex, add an edge between two vertices, and display the graph.\n",
        "\n",
        "Note:\n",
        "\n",
        "* You can choose any appropriate data structure to represent the graph internally.\n",
        "* The `display_graph` method should print the vertices and their corresponding adjacency lists (e.g., `1: 2, 5<new_line>2: 3<new_line>3: 1, 4`, or any other format)."
      ],
      "metadata": {
        "id": "XHbGIA3cWXLw"
      }
    },
    {
      "cell_type": "code",
      "source": [
        "class Graph:\n",
        "    def __init__(self):\n",
        "        \"\"\"\n",
        "        Initialize an empty graph.\n",
        "        \"\"\"\n",
        "        # Your code here\n",
        "\n",
        "    def add_vertex(self, vertex: int) -> None:\n",
        "        \"\"\"\n",
        "        Add a vertex to the graph.\n",
        "\n",
        "        Parameters:\n",
        "        - vertex (int): The vertex to be added.\n",
        "\n",
        "        Returns:\n",
        "        - None\n",
        "        \"\"\"\n",
        "        # Your code here\n",
        "\n",
        "    def add_edge(self, start_vertex: int, end_vertex: int) -> None:\n",
        "        \"\"\"\n",
        "        Add an edge between two vertices in the graph.\n",
        "\n",
        "        Parameters:\n",
        "        - start_vertex (int): The starting vertex of the edge.\n",
        "        - end_vertex (int): The ending vertex of the edge.\n",
        "\n",
        "        Returns:\n",
        "        - None\n",
        "        \"\"\"\n",
        "        # Your code here\n",
        "\n",
        "    def display_graph(self) -> None:\n",
        "        \"\"\"\n",
        "        Display the graph.\n",
        "\n",
        "        Returns:\n",
        "        - None\n",
        "        \"\"\"\n",
        "        # Your code here\n"
      ],
      "metadata": {
        "id": "FOSUeyMTWZmj"
      },
      "execution_count": null,
      "outputs": []
    },
    {
      "cell_type": "markdown",
      "source": [
        "---"
      ],
      "metadata": {
        "id": "eg46kgPlXI2A"
      }
    },
    {
      "cell_type": "markdown",
      "source": [
        "## Problem 6: BFS in a Labyrinth\n",
        "\n",
        "You are given a labyrinth represented as a matrix where 0 denotes an open cell and 1 denotes a wall. Write a function `bfs_labyrinth` that takes the labyrinth matrix and starting position as input and performs Breadth-First Search (BFS) traversal to find the shortest path to the exit.\n",
        "\n",
        "**Note:**\n",
        "- The labyrinth is represented as a matrix where 0 denotes an open cell, and 1 denotes a wall.\n",
        "- Use a queue to implement BFS.\n",
        "- The function should return the shortest path from the starting position to the exit as a list of positions (row, column) (or `None` if it doesn't exist).\n",
        "\n",
        "**Example:**\n",
        "\n",
        "```python\n",
        "labyrinth = [\n",
        "    [0, 0, 1, 0, 0],\n",
        "    [0, 1, 0, 1, 0],\n",
        "    [0, 1, 0, 0, 0],\n",
        "    [0, 0, 1, 1, 1],\n",
        "    [1, 0, 0, 0, 0]\n",
        "]\n",
        "start_position = (0, 0)\n",
        "exit_position = (4, 4)\n",
        "\n",
        "result = bfs_labyrinth(labyrinth, start_position, exit_position)\n",
        "print(result)\n",
        "```\n",
        "\n",
        "Output:\n",
        "\n",
        "```\n",
        "[(0, 0), (1, 0), (2, 0), (3, 0), (4, 0), (4, 1), (4, 2), (4, 3), (4, 4)]\n",
        "```"
      ],
      "metadata": {
        "id": "SCl7yXKhXKvX"
      }
    },
    {
      "cell_type": "code",
      "source": [
        "from collections import deque\n",
        "from typing import List, Tuple\n",
        "\n",
        "def bfs_labyrinth(labyrinth: List[List[int]], start: Tuple[int, int], exit: Tuple[int, int]) -> List[Tuple[int, int]]:\n",
        "    \"\"\"\n",
        "    Perform Breadth-First Search (BFS) traversal in a labyrinth.\n",
        "\n",
        "    Parameters:\n",
        "    - labyrinth (List[List[int]]): The labyrinth represented as a matrix.\n",
        "    - start (Tuple[int, int]): The starting position (row, column).\n",
        "    - exit (Tuple[int, int]): The exit position (row, column).\n",
        "\n",
        "    Returns:\n",
        "    - List[Tuple[int, int]]: The shortest path from the starting position to the exit.\n",
        "    \"\"\"\n",
        "    # Your code here"
      ],
      "metadata": {
        "id": "6gWeYtyMYCZZ"
      },
      "execution_count": null,
      "outputs": []
    },
    {
      "cell_type": "markdown",
      "source": [
        "---"
      ],
      "metadata": {
        "id": "vmsyu2yAYi6-"
      }
    },
    {
      "cell_type": "markdown",
      "source": [
        "## Problem 7: Group Anagrams - Hash Table Approach\n",
        "\n",
        "Given an array of strings `strs`, group the anagrams together. An Anagram is a word or phrase formed by rearranging the letters of a different word or phrase, typically using all the original letters **exactly once**.\n",
        "\n",
        "**Example:**\n",
        "\n",
        "```python\n",
        "strs = [\"eat\", \"tea\", \"tan\", \"ate\", \"nat\", \"bat\"]\n",
        "result = group_anagrams(strs)\n",
        "print(result)\n",
        "```\n",
        "\n",
        "Output:\n",
        "\n",
        "```python\n",
        "[\n",
        "  [\"eat\", \"tea\", \"ate\"],\n",
        "  [\"tan\", \"nat\"],\n",
        "  [\"bat\"]\n",
        "]\n",
        "```\n"
      ],
      "metadata": {
        "id": "a7WPlLKhYkxU"
      }
    },
    {
      "cell_type": "code",
      "source": [
        "from typing import List\n",
        "\n",
        "def group_anagrams(strs: List[str]) -> List[List[str]]:\n",
        "    \"\"\"\n",
        "    Group anagrams together from the given list of strings.\n",
        "\n",
        "    Parameters:\n",
        "    - strs (List[str]): The list of strings.\n",
        "\n",
        "    Returns:\n",
        "    - List[List[str]]: The grouped anagrams.\n",
        "    \"\"\"\n",
        "    # Your code here"
      ],
      "metadata": {
        "id": "HsdHoglYZeqd"
      },
      "execution_count": null,
      "outputs": []
    },
    {
      "cell_type": "markdown",
      "source": [
        "---"
      ],
      "metadata": {
        "id": "fMzquMH1bMoH"
      }
    },
    {
      "cell_type": "markdown",
      "source": [
        "## Problem 8: Hamming Distance\n",
        "\n",
        "The Hamming distance between two integers is the number of positions at which the corresponding bits are different.\n",
        "\n",
        "Given two integers `x` and `y`, calculate the Hamming distance.\n",
        "\n",
        "**Example:**\n",
        "\n",
        "```python\n",
        "x = 4  # =0100\n",
        "y = 14 # =1110\n",
        "result = hamming_distance(x, y)\n",
        "print(result)\n",
        "```\n",
        "\n",
        "Output:\n",
        "\n",
        "```\n",
        "2\n",
        "```\n"
      ],
      "metadata": {
        "id": "0Qbz0aMPbNuQ"
      }
    },
    {
      "cell_type": "code",
      "source": [
        "def hamming_distance(x: int, y: int) -> int:\n",
        "    \"\"\"\n",
        "    Calculate the Hamming distance between two integers.\n",
        "\n",
        "    Parameters:\n",
        "    - x (int): The first integer.\n",
        "    - y (int): The second integer.\n",
        "\n",
        "    Returns:\n",
        "    - int: The Hamming distance between the two integers.\n",
        "    \"\"\"\n",
        "    # Your code here"
      ],
      "metadata": {
        "id": "4dXfmon4bkqa"
      },
      "execution_count": null,
      "outputs": []
    },
    {
      "cell_type": "markdown",
      "source": [
        "---"
      ],
      "metadata": {
        "id": "yMgPU-gQcKlC"
      }
    },
    {
      "cell_type": "markdown",
      "source": [
        "## Problem 9: Evaluate Arithmetic Expression (Addition and Subtraction Only)\n",
        "\n",
        "Given a string representing an arithmetic expression containing only addition and subtraction operations, evaluate the expression and return the result.\n",
        "\n",
        "**Example:**\n",
        "\n",
        "```python\n",
        "expression = \"3 + 5 - 2 + 8 - 4\"\n",
        "result = evaluate_expression(expression)\n",
        "print(result)\n",
        "```\n",
        "\n",
        "Output:\n",
        "\n",
        "```\n",
        "10\n",
        "```"
      ],
      "metadata": {
        "id": "u3sgVbuUcNTB"
      }
    },
    {
      "cell_type": "code",
      "source": [
        "def evaluate_expression(expression: str) -> int:\n",
        "    \"\"\"\n",
        "    Evaluate the given arithmetic expression (with addition and subtraction only) and return the result.\n",
        "\n",
        "    Parameters:\n",
        "    - expression (str): The arithmetic expression as a string.\n",
        "\n",
        "    Returns:\n",
        "    - int: The result of the arithmetic expression.\n",
        "    \"\"\"\n",
        "    # Your code here"
      ],
      "metadata": {
        "id": "uGcWWwP2cMaz"
      },
      "execution_count": null,
      "outputs": []
    },
    {
      "cell_type": "markdown",
      "source": [
        "---"
      ],
      "metadata": {
        "id": "d15SIdq1cyNZ"
      }
    },
    {
      "cell_type": "markdown",
      "source": [
        "## Problem 10: N-Queens - Backtracking\n",
        "\n",
        "The N-Queens puzzle is the problem of placing N chess queens on an N×N chessboard so that no two queens threaten each other. Thus, a solution requires that **no two queens ('Q') share the same row, column, or diagonal**.\n",
        "\n",
        "**Note:**\n",
        "\n",
        "* Each solution should be represented as a list of strings where 'Q' represents a queen and '.' represents an empty space.\n",
        "* The solutions can be in any order.\n",
        "\n",
        "**Example:**\n",
        "\n",
        "```python\n",
        "n = 4\n",
        "result = solve_n_queens(n)\n",
        "print(result)\n",
        "```\n",
        "\n",
        "Output:\n",
        "\n",
        "```python\n",
        "[\n",
        "  [\".Q..\",\n",
        "   \"...Q\",\n",
        "   \"Q...\",\n",
        "   \"..Q.\"],\n",
        "\n",
        " [\"..Q.\",\n",
        "  \"Q...\",\n",
        "  \"...Q\",\n",
        "  \".Q..\"]\n",
        "]\n",
        "```"
      ],
      "metadata": {
        "id": "58zoxSWvczEH"
      }
    },
    {
      "cell_type": "code",
      "source": [
        "from typing import List\n",
        "\n",
        "def solve_n_queens(n: int) -> List[List[str]]:\n",
        "    \"\"\"\n",
        "    Solve the N-Queens puzzle and return all distinct solutions.\n",
        "\n",
        "    Parameters:\n",
        "    - n (int): The size of the chessboard and the number of queens.\n",
        "\n",
        "    Returns:\n",
        "    - List[List[str]]: List of distinct solutions represented as boards.\n",
        "    \"\"\"\n",
        "    # Your code here\n"
      ],
      "metadata": {
        "id": "yHnR3L5zc0xn"
      },
      "execution_count": null,
      "outputs": []
    },
    {
      "cell_type": "markdown",
      "source": [
        "---"
      ],
      "metadata": {
        "id": "FpXFV8b0fWNG"
      }
    },
    {
      "cell_type": "markdown",
      "source": [
        "## Problem 11: Need more wood\n",
        "\n",
        "Nearly all of the Kingdom of Byteland is covered by forests and rivers. Small rivers meet to form bigger rivers, which also meet and, in the end, all the rivers flow together into one big river. The big river meets the sea near Bytetown.\n",
        "\n",
        "There are N lumberjacks' villages in Byteland, each placed near a river. Currently, there is a big sawmill in Bytetown that processes all trees cut in the Kingdom. The trees float from the villages down the rivers to the sawmill in Bytetown.\n",
        "\n",
        "The king of Byteland decided to build K additional sawmills in villages to reduce the cost of transporting the trees downriver.\n",
        "\n",
        "After building the sawmills, the trees need not float to Bytetown, but can be processed in the first sawmill they encounter downriver. Obviously, the trees cut near a village with a sawmill need not be transported by river. It should be noted that the rivers in Byteland do not fork. Therefore, for each village, there is a unique way downriver from the village to Bytetown.\n",
        "\n",
        "The king's accountants calculated how many trees are cut by each village per year. You must decide where to build the sawmills to minimize the total cost of transporting the trees per year. River transportation costs one cent per kilometre, per tree.\n",
        "\n",
        "**Example:**\n",
        "\n",
        "```\n",
        "   Bytetown        1            1\n",
        "      ---    1    ---    10    ---     5    ---\n",
        "     | 0 |<------| 1 |<-------| 2 |<-------| 3 | 10\n",
        "      ---         ---          --- <--      ---\n",
        "                                      |\n",
        "                                      |3\n",
        "                                      |     ---\n",
        "                                       ----| 4 | 1\n",
        "                                            ---\n",
        "```\n",
        "\n",
        "The nodes `{1,2,3,4}` are villages and the edges are rivers. The number of trees to be cut is written by the side of each village. The length of each river is written by the edge. 2 sawmills are to be placed.\n",
        "\n",
        "The solution in this case is to place the mills at villages 2 and 3, which incurs a cost of 4.\n",
        "\n",
        "**Input:**\n",
        "\n",
        "* the number of villages N (≤ 100),\n",
        "* the number of additional sawmills to be built K (≤ 50),\n",
        "* the number of trees cut near each village $W_i$ (≤ 10000), and\n",
        "* an array of pairs $(u_j, v_j)$ -- descriptions of the rivers\n",
        "\n",
        "**Output:** The minimal cost of river transportation after building additional sawmills."
      ],
      "metadata": {
        "id": "YdektE-_fXqW"
      }
    },
    {
      "cell_type": "code",
      "source": [
        "def minimize_transportation_cost(n, k, woods, rivers):\n",
        "    # Your code for minimizing transportation cost goes here\n",
        "    return 2\n",
        "\n",
        "\n",
        "def test_minimize_transportation_cost():\n",
        "    n = 4\n",
        "    k = 2\n",
        "    woods = [1, 1, 10, 1]\n",
        "    rivers = [(1, 0), (2, 1), (3, 2), (4, 2)]\n",
        "\n",
        "    assert minimize_transportation_cost(n, k, woods, rivers) == 2\n",
        "\n",
        "test_minimize_transportation_cost()"
      ],
      "metadata": {
        "id": "rHNoHAmbgNCz"
      },
      "execution_count": null,
      "outputs": []
    }
  ]
}